{
 "cells": [
  {
   "cell_type": "markdown",
   "metadata": {},
   "source": [
    "# LAB | Error Handling in Python\n",
    "\n",
    "## Overview\n",
    "This exercise notebook will help you practice error handling in Python using exceptions. You will write programs that handle various types of exceptions to ensure your code runs smoothly and handles errors gracefully."
   ]
  },
  {
   "cell_type": "markdown",
   "metadata": {},
   "source": [
    "### Exercise 1: Handle ZeroDivisionError\n",
    "Write a Python program to handle a `ZeroDivisionError` exception when dividing a number by zero.\n"
   ]
  },
  {
   "cell_type": "code",
   "execution_count": null,
   "metadata": {},
   "outputs": [
    {
     "name": "stdout",
     "output_type": "stream",
     "text": [
      "Error:  division by zero\n"
     ]
    }
   ],
   "source": [
    "\n",
    "try:\n",
    "    1/0\n",
    "except ZeroDivisionError as e:\n",
    "    print(\"Error: \", e)\n"
   ]
  },
  {
   "cell_type": "markdown",
   "metadata": {},
   "source": [
    "\n",
    "### Exercise 2: Raise ValueError for Invalid Input\n",
    "Write a Python program that prompts the user to input an integer and raises a `ValueError` exception if the input is not a valid integer.\n",
    "\n"
   ]
  },
  {
   "cell_type": "code",
   "execution_count": null,
   "metadata": {},
   "outputs": [
    {
     "name": "stdout",
     "output_type": "stream",
     "text": [
      "Error:  invalid literal for int() with base 10: 'q'\n",
      "This will always run\n"
     ]
    }
   ],
   "source": [
    "\n",
    "ui = input(\"Enter a number: \")\n",
    "try:\n",
    "    num = int(ui)\n",
    "    print(\"You entered: \", num)\n",
    "except ValueError as e:\n",
    "    print(\"Error: \", e)\n",
    "    raise ValueError(\"Invalid input\") from e\n",
    "finally:\n",
    "    print(\"This will always run\")\n",
    "\n"
   ]
  },
  {
   "cell_type": "markdown",
   "metadata": {},
   "source": [
    "\n",
    "\n",
    "### Exercise 3: Handle FileNotFoundError\n",
    "Write a Python program that opens a file and handles a `FileNotFoundError` exception if the file does not exist.\n",
    "\n"
   ]
  },
  {
   "cell_type": "code",
   "execution_count": 10,
   "metadata": {},
   "outputs": [
    {
     "name": "stdout",
     "output_type": "stream",
     "text": [
      "Error:  [Errno 2] No such file or directory: 'file.txt'\n"
     ]
    }
   ],
   "source": [
    "try:\n",
    "    with open(\"file.txt\", \"r\") as f:\n",
    "        print(f.read())\n",
    "except FileNotFoundError as e:\n",
    "    print(\"Error: \", e)"
   ]
  },
  {
   "cell_type": "markdown",
   "metadata": {},
   "source": [
    "\n",
    "\n",
    "### Exercise 4: Raise TypeError for Non-Numerical Input\n",
    "Write a Python program that prompts the user to input two numbers and raises a `TypeError` exception if the inputs are not numerical.\n",
    "\n"
   ]
  },
  {
   "cell_type": "code",
   "execution_count": 16,
   "metadata": {},
   "outputs": [
    {
     "name": "stdout",
     "output_type": "stream",
     "text": [
      "Error:  Invalid input\n"
     ]
    }
   ],
   "source": [
    "try:\n",
    "    n1 = input(\"Enter the first number: \")\n",
    "    n2 = input(\"Enter the second number: \")\n",
    "    if not n1.isdigit() or not n2.isdigit():\n",
    "        raise TypeError(\"Invalid input\")\n",
    "    print(int(n1) / int(n2))\n",
    "except TypeError as e:\n",
    "    print(\"Error: \", e)"
   ]
  },
  {
   "cell_type": "markdown",
   "metadata": {},
   "source": [
    "\n",
    "\n",
    "### Exercise 5: Handle PermissionError\n",
    "Write a Python program that opens a file and handles a `PermissionError` exception if there is a permission issue.\n",
    "\n",
    "\n"
   ]
  },
  {
   "cell_type": "code",
   "execution_count": 20,
   "metadata": {},
   "outputs": [
    {
     "name": "stdout",
     "output_type": "stream",
     "text": [
      "content: \n"
     ]
    }
   ],
   "source": [
    "try:\n",
    "    with open(\"file.txt\", \"r\") as f:\n",
    "        content = f.read()\n",
    "        print('content:', content)\n",
    "except PermissionError as e:\n",
    "    print(\"Error: \", e)\n"
   ]
  },
  {
   "cell_type": "markdown",
   "metadata": {},
   "source": [
    "\n",
    "\n",
    "### Exercise 6: Handle IndexError in List Operations\n",
    "Write a Python program that executes an operation on a list and handles an `IndexError` exception if the index is out of range.\n",
    "\n",
    "\n"
   ]
  },
  {
   "cell_type": "code",
   "execution_count": 24,
   "metadata": {},
   "outputs": [
    {
     "name": "stdout",
     "output_type": "stream",
     "text": [
      "5\n"
     ]
    }
   ],
   "source": [
    "my_list = [1, 2, 3, 4, 5]\n",
    "try:\n",
    "    numx = my_list[4]\n",
    "    print(numx)\n",
    "except IndexError as e:\n",
    "    print(\"Error: Index {index} is out of range for this list\")"
   ]
  },
  {
   "cell_type": "markdown",
   "metadata": {},
   "source": [
    "\n",
    "\n",
    "### Exercise 7: Handle KeyboardInterrupt Exception\n",
    "Write a Python program that prompts the user to input a number and handles a `KeyboardInterrupt` exception if the user cancels the input.\n",
    "\n"
   ]
  },
  {
   "cell_type": "code",
   "execution_count": 35,
   "metadata": {},
   "outputs": [
    {
     "name": "stdout",
     "output_type": "stream",
     "text": [
      "You entered: \n"
     ]
    }
   ],
   "source": [
    "try:\n",
    "    user_input = input(\"Please enter a number: \")\n",
    "    print(f\"You entered: {user_input}\")\n",
    "except KeyboardInterrupt:\n",
    "    print(\"\\nInput cancelled by user.\")"
   ]
  },
  {
   "cell_type": "markdown",
   "metadata": {},
   "source": [
    "\n",
    "\n",
    "### Exercise 8: Handle ArithmeticError\n",
    "Write a Python program that executes division and handles an `ArithmeticError` exception if there is an arithmetic error.\n",
    "\n"
   ]
  },
  {
   "cell_type": "code",
   "execution_count": 36,
   "metadata": {},
   "outputs": [
    {
     "name": "stdout",
     "output_type": "stream",
     "text": [
      "Error:  division by zero\n"
     ]
    }
   ],
   "source": [
    "try:\n",
    "    result = 1 / 0\n",
    "    print(result)\n",
    "except ArithmeticError as e:\n",
    "    print(\"Error: \", e)"
   ]
  },
  {
   "cell_type": "markdown",
   "metadata": {},
   "source": [
    "\n",
    "\n",
    "### Exercise 9: Handle UnicodeDecodeError\n",
    "Write a Python program that opens a file and handles a `UnicodeDecodeError` exception if there is an encoding issue.\n",
    "\n"
   ]
  },
  {
   "cell_type": "code",
   "execution_count": 39,
   "metadata": {},
   "outputs": [
    {
     "name": "stdout",
     "output_type": "stream",
     "text": [
      "File content:\n",
      "\n"
     ]
    }
   ],
   "source": [
    "filename = 'file.txt'\n",
    "try:\n",
    "    with open(filename, 'r', encoding='utf-8') as file:\n",
    "        content = file.read()\n",
    "        print(\"File content:\")\n",
    "        print(content)\n",
    "except UnicodeDecodeError:\n",
    "    print(f\"Error: There was an encoding issue with the file '{filename}'.\")\n"
   ]
  },
  {
   "cell_type": "markdown",
   "metadata": {},
   "source": [
    "\n",
    "\n",
    "### Exercise 10: Handle AttributeError\n",
    "Write a Python program that executes an operation on an object and handles an `AttributeError` exception if the attribute does not exist.\n",
    "\n"
   ]
  },
  {
   "cell_type": "code",
   "execution_count": 42,
   "metadata": {},
   "outputs": [
    {
     "name": "stdout",
     "output_type": "stream",
     "text": [
      "Error: The attribute 'appendx' does not exist in the object.\n"
     ]
    }
   ],
   "source": [
    "sample_list = [1, 2, 3, 4, 5]\n",
    "\n",
    "try:\n",
    "    attr_value = getattr(sample_list, 'appendx')\n",
    "    attribute = 'appendx'\n",
    "    print(f\"The value of '{attribute}' is: {attr_value}\")\n",
    "except AttributeError:\n",
    "    print(f\"Error: The attribute '{attribute}' does not exist in the object.\")\n"
   ]
  },
  {
   "cell_type": "markdown",
   "metadata": {},
   "source": [
    "\n",
    "\n",
    "## Bonus Exercises\n",
    "\n",
    "### Bonus Exercise 1: Handle Multiple Exceptions\n",
    "Write a Python program that demonstrates handling multiple exceptions in one block.\n",
    "\n",
    "\n"
   ]
  },
  {
   "cell_type": "code",
   "execution_count": 3,
   "metadata": {},
   "outputs": [
    {
     "name": "stdout",
     "output_type": "stream",
     "text": [
      "\n",
      "This will always run\n"
     ]
    }
   ],
   "source": [
    "try:\n",
    "    with open(\"file.txt\", \"r\") as f:\n",
    "        content = f.read()\n",
    "        print(content)\n",
    "except FileNotFoundError as e:\n",
    "    print(\"Error: \", e)\n",
    "except PermissionError as e:\n",
    "    print(\"Error: \", e)\n",
    "except Exception as e:\n",
    "    print(\"Error: \", e)\n",
    "finally:\n",
    "    print(\"This will always run\")"
   ]
  },
  {
   "cell_type": "markdown",
   "metadata": {},
   "source": [
    "\n",
    "\n",
    "### Bonus Exercise 2: Create Custom Exception\n",
    "Create a custom exception class and raise it in your code when certain conditions are met.\n",
    "\n",
    "\n"
   ]
  },
  {
   "cell_type": "code",
   "execution_count": 5,
   "metadata": {},
   "outputs": [
    {
     "name": "stdout",
     "output_type": "stream",
     "text": [
      "Error:  Number is not positive\n"
     ]
    }
   ],
   "source": [
    "input_number = input(\"Enter a positive number: \")\n",
    "try:\n",
    "    number = int(input_number)\n",
    "    if number < 0:\n",
    "        raise ValueError(\"Number is not positive\")\n",
    "    print(\"You entered:\", number)\n",
    "except ValueError as e:\n",
    "    print(\"Error: \", e)"
   ]
  },
  {
   "cell_type": "markdown",
   "metadata": {},
   "source": [
    "\n",
    "\n",
    "### Bonus Exercise 3: Validate User Input with Exception Handling\n",
    "Write a program that repeatedly prompts the user for valid input until they provide it, using exception handling to manage invalid inputs.\n",
    "\n"
   ]
  },
  {
   "cell_type": "code",
   "execution_count": 9,
   "metadata": {},
   "outputs": [
    {
     "name": "stdout",
     "output_type": "stream",
     "text": [
      "Error:  Number is not positive\n",
      "Error:  Number is not positive\n"
     ]
    }
   ],
   "source": [
    "input_number = input(\"Enter a positive number: \")\n",
    "while True:\n",
    "    try:\n",
    "        number = int(input_number)\n",
    "        if number < 0:\n",
    "            raise ValueError(\"Number is not positive\")\n",
    "        break\n",
    "    except ValueError as e:\n",
    "        print(\"Error: \", e)\n",
    "        input_number = input(\"Enter a positive number: \")"
   ]
  },
  {
   "cell_type": "markdown",
   "metadata": {},
   "source": [
    "\n",
    "\n",
    "### Bonus Exercise 4: Log Errors to File\n",
    "Modify your error handling to log errors to a text file instead of printing them to the console.\n",
    "\n"
   ]
  },
  {
   "cell_type": "code",
   "execution_count": 13,
   "metadata": {},
   "outputs": [
    {
     "name": "stdout",
     "output_type": "stream",
     "text": [
      "You entered a valid integer 1\n"
     ]
    }
   ],
   "source": [
    "import logging\n",
    "\n",
    "logging.basicConfig(filename='app.log', level=logging.ERROR)\n",
    "while True:\n",
    "    try:\n",
    "        user_input = input(\"Enter a valid integer: \")\n",
    "        num = int(user_input)\n",
    "        print(\"You entered a valid integer\", num)\n",
    "        break\n",
    "    except ValueError as e:\n",
    "        logging.error(\"Invalid input\", exc_info=True)\n",
    "        print(\"Error: \", e)\n",
    "        print(\"Please try again\")\n"
   ]
  },
  {
   "cell_type": "markdown",
   "metadata": {},
   "source": [
    "\n",
    "\n",
    "### Bonus Exercise 5: Retry Logic on Exception\n",
    "Implement retry logic for operations that could fail, allowing users to try again after encountering an error.\n",
    "\n"
   ]
  },
  {
   "cell_type": "code",
   "execution_count": 18,
   "metadata": {},
   "outputs": [
    {
     "name": "stdout",
     "output_type": "stream",
     "text": [
      "Invalid input\n",
      "Please try again\n",
      "Invalid input\n",
      "Please try again\n",
      "Invalid input\n",
      "Please try again\n",
      "Invalid input\n",
      "Please try again\n",
      "You entered a valid integer 1\n"
     ]
    }
   ],
   "source": [
    "while True:\n",
    "    try:\n",
    "        user_input = input(\"Enter a valid integer: \")\n",
    "        num = int(user_input)\n",
    "        print(\"You entered a valid integer\", num)\n",
    "        break\n",
    "    except ValueError as e:\n",
    "        print(\"Invalid input\")\n",
    "        print(\"Please try again\")"
   ]
  }
 ],
 "metadata": {
  "kernelspec": {
   "display_name": "base",
   "language": "python",
   "name": "python3"
  },
  "language_info": {
   "codemirror_mode": {
    "name": "ipython",
    "version": 3
   },
   "file_extension": ".py",
   "mimetype": "text/x-python",
   "name": "python",
   "nbconvert_exporter": "python",
   "pygments_lexer": "ipython3",
   "version": "3.12.7"
  }
 },
 "nbformat": 4,
 "nbformat_minor": 2
}
